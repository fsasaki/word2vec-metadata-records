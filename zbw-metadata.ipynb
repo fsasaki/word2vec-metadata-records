{
 "cells": [
  {
   "cell_type": "code",
   "execution_count": 1,
   "metadata": {},
   "outputs": [
    {
     "name": "stderr",
     "output_type": "stream",
     "text": [
      "C:\\Users\\sasaki.f\\AppData\\Local\\Continuum\\anaconda3\\lib\\site-packages\\gensim\\utils.py:1212: UserWarning: detected Windows; aliasing chunkize to chunkize_serial\n",
      "  warnings.warn(\"detected Windows; aliasing chunkize to chunkize_serial\")\n"
     ]
    }
   ],
   "source": [
    "import pandas as pd\n",
    "import gensim\n",
    "import numpy as np\n",
    "import re\n",
    "#import nltk\n",
    "#from nltk.corpus import stopwords\n",
    "#from nltk.tokenize import word_tokenize\n",
    "import multiprocessing\n",
    "from gensim.models import Word2Vec\n",
    "from sklearn.manifold import TSNE\n",
    "from sklearn.decomposition import PCA\n",
    "import matplotlib.pyplot as plt\n",
    "import seaborn as sns\n",
    "sns.set_style(\"darkgrid\")\n",
    "%matplotlib inline\n",
    "import logging  # Setting up the loggings to monitor gensim\n",
    "from time import time  # To time our operations\n",
    "logging.basicConfig(format=\"%(levelname)s - %(asctime)s: %(message)s\", datefmt= '%H:%M:%S', level=logging.INFO)"
   ]
  },
  {
   "cell_type": "code",
   "execution_count": 2,
   "metadata": {},
   "outputs": [],
   "source": [
    "umlaute_dict = {\n",
    "    'ä': 'ae',  # U+00E4\t   \\xc3\\xa4\n",
    "    'ö': 'oe',  # U+00F6\t   \\xc3\\xb6\n",
    "    'ü': 'ue',  # U+00FC\t   \\xc3\\xbc\n",
    "    'Ä': 'Ae',  # U+00C4\t   \\xc3\\x84\n",
    "    'Ö': 'Oe',  # U+00D6\t   \\xc3\\x96\n",
    "    'Ü': 'Ue',  # U+00DC\t   \\xc3\\x9c\n",
    "    'ß': 'ss',  # U+00DF\t   \\xc3\\x9f\n",
    "}\n",
    "\n",
    "\n",
    "def replace_german_umlaute(unicode_string):\n",
    "\n",
    "    utf8_string = unicode_string# .encode('utf-8')\n",
    "\n",
    "    for k in umlaute_dict.keys():\n",
    "        utf8_string = utf8_string.replace(k, umlaute_dict[k])\n",
    "\n",
    "    return utf8_string#.decode()"
   ]
  },
  {
   "cell_type": "code",
   "execution_count": 3,
   "metadata": {},
   "outputs": [],
   "source": [
    "input = pd.read_csv('result-with-delimiter.csv',header=0,delimiter=',', encoding='utf-8')"
   ]
  },
  {
   "cell_type": "code",
   "execution_count": 4,
   "metadata": {},
   "outputs": [
    {
     "data": {
      "text/html": [
       "<div>\n",
       "<style scoped>\n",
       "    .dataframe tbody tr th:only-of-type {\n",
       "        vertical-align: middle;\n",
       "    }\n",
       "\n",
       "    .dataframe tbody tr th {\n",
       "        vertical-align: top;\n",
       "    }\n",
       "\n",
       "    .dataframe thead th {\n",
       "        text-align: right;\n",
       "    }\n",
       "</style>\n",
       "<table border=\"1\" class=\"dataframe\">\n",
       "  <thead>\n",
       "    <tr style=\"text-align: right;\">\n",
       "      <th></th>\n",
       "      <th>publication</th>\n",
       "      <th>title</th>\n",
       "      <th>keywords</th>\n",
       "    </tr>\n",
       "  </thead>\n",
       "  <tbody>\n",
       "    <tr>\n",
       "      <th>0</th>\n",
       "      <td>http://linkeddata.econstor.eu/beta/resource/pu...</td>\n",
       "      <td>The desirability of workfare as a welfare orde...</td>\n",
       "      <td>welfareXXXYYYworkfareXXXYYYmisreportingXXXYYYm...</td>\n",
       "    </tr>\n",
       "    <tr>\n",
       "      <th>1</th>\n",
       "      <td>http://linkeddata.econstor.eu/beta/resource/pu...</td>\n",
       "      <td>Ageing, Care Need and Long-Term Care Workforce...</td>\n",
       "      <td>DeutschlandXXXYYYPflegeberufeXXXYYYGesundheits...</td>\n",
       "    </tr>\n",
       "    <tr>\n",
       "      <th>2</th>\n",
       "      <td>http://linkeddata.econstor.eu/beta/resource/pu...</td>\n",
       "      <td>The experience of developing countries with ma...</td>\n",
       "      <td>Wirtschaftliche AnpassungXXXYYYEntwicklungslän...</td>\n",
       "    </tr>\n",
       "    <tr>\n",
       "      <th>3</th>\n",
       "      <td>http://linkeddata.econstor.eu/beta/resource/pu...</td>\n",
       "      <td>Private information, human capital, and optima...</td>\n",
       "      <td>WeltXXXYYYfinancial marketsXXXYYYPortfolio-Man...</td>\n",
       "    </tr>\n",
       "    <tr>\n",
       "      <th>4</th>\n",
       "      <td>http://linkeddata.econstor.eu/beta/resource/pu...</td>\n",
       "      <td>Surveys of Informal Sector Enterprises - Some ...</td>\n",
       "      <td>informal sectorXXXYYYinformal sector enterpris...</td>\n",
       "    </tr>\n",
       "  </tbody>\n",
       "</table>\n",
       "</div>"
      ],
      "text/plain": [
       "                                         publication  \\\n",
       "0  http://linkeddata.econstor.eu/beta/resource/pu...   \n",
       "1  http://linkeddata.econstor.eu/beta/resource/pu...   \n",
       "2  http://linkeddata.econstor.eu/beta/resource/pu...   \n",
       "3  http://linkeddata.econstor.eu/beta/resource/pu...   \n",
       "4  http://linkeddata.econstor.eu/beta/resource/pu...   \n",
       "\n",
       "                                               title  \\\n",
       "0  The desirability of workfare as a welfare orde...   \n",
       "1  Ageing, Care Need and Long-Term Care Workforce...   \n",
       "2  The experience of developing countries with ma...   \n",
       "3  Private information, human capital, and optima...   \n",
       "4  Surveys of Informal Sector Enterprises - Some ...   \n",
       "\n",
       "                                            keywords  \n",
       "0  welfareXXXYYYworkfareXXXYYYmisreportingXXXYYYm...  \n",
       "1  DeutschlandXXXYYYPflegeberufeXXXYYYGesundheits...  \n",
       "2  Wirtschaftliche AnpassungXXXYYYEntwicklungslän...  \n",
       "3  WeltXXXYYYfinancial marketsXXXYYYPortfolio-Man...  \n",
       "4  informal sectorXXXYYYinformal sector enterpris...  "
      ]
     },
     "execution_count": 4,
     "metadata": {},
     "output_type": "execute_result"
    }
   ],
   "source": [
    "input.head()"
   ]
  },
  {
   "cell_type": "code",
   "execution_count": 5,
   "metadata": {},
   "outputs": [
    {
     "name": "stderr",
     "output_type": "stream",
     "text": [
      "C:\\Users\\sasaki.f\\AppData\\Local\\Continuum\\anaconda3\\lib\\site-packages\\ipykernel_launcher.py:6: FutureWarning: set_value is deprecated and will be removed in a future release. Please use .at[] or .iat[] accessors instead\n",
      "  \n"
     ]
    }
   ],
   "source": [
    "for i, row in input.iterrows():\n",
    "    s = str(row.iloc[2])\n",
    "    replaced1 = re.sub(' ','_',s)\n",
    "    replaced2= re.sub('XXXYYY', ' ', replaced1)\n",
    "    replaced3= replace_german_umlaute(replaced2)\n",
    "    input.set_value(i,'keywords',replaced3.lower())"
   ]
  },
  {
   "cell_type": "code",
   "execution_count": 6,
   "metadata": {},
   "outputs": [
    {
     "data": {
      "text/html": [
       "<div>\n",
       "<style scoped>\n",
       "    .dataframe tbody tr th:only-of-type {\n",
       "        vertical-align: middle;\n",
       "    }\n",
       "\n",
       "    .dataframe tbody tr th {\n",
       "        vertical-align: top;\n",
       "    }\n",
       "\n",
       "    .dataframe thead th {\n",
       "        text-align: right;\n",
       "    }\n",
       "</style>\n",
       "<table border=\"1\" class=\"dataframe\">\n",
       "  <thead>\n",
       "    <tr style=\"text-align: right;\">\n",
       "      <th></th>\n",
       "      <th>publication</th>\n",
       "      <th>title</th>\n",
       "      <th>keywords</th>\n",
       "    </tr>\n",
       "  </thead>\n",
       "  <tbody>\n",
       "    <tr>\n",
       "      <th>0</th>\n",
       "      <td>http://linkeddata.econstor.eu/beta/resource/pu...</td>\n",
       "      <td>The desirability of workfare as a welfare orde...</td>\n",
       "      <td>welfare workfare misreporting means-testing ut...</td>\n",
       "    </tr>\n",
       "    <tr>\n",
       "      <th>1</th>\n",
       "      <td>http://linkeddata.econstor.eu/beta/resource/pu...</td>\n",
       "      <td>Ageing, Care Need and Long-Term Care Workforce...</td>\n",
       "      <td>deutschland pflegeberufe gesundheitsberufe pfl...</td>\n",
       "    </tr>\n",
       "    <tr>\n",
       "      <th>2</th>\n",
       "      <td>http://linkeddata.econstor.eu/beta/resource/pu...</td>\n",
       "      <td>The experience of developing countries with ma...</td>\n",
       "      <td>wirtschaftliche_anpassung entwicklungslaender ...</td>\n",
       "    </tr>\n",
       "    <tr>\n",
       "      <th>3</th>\n",
       "      <td>http://linkeddata.econstor.eu/beta/resource/pu...</td>\n",
       "      <td>Private information, human capital, and optima...</td>\n",
       "      <td>welt financial_markets portfolio-management as...</td>\n",
       "    </tr>\n",
       "    <tr>\n",
       "      <th>4</th>\n",
       "      <td>http://linkeddata.econstor.eu/beta/resource/pu...</td>\n",
       "      <td>Surveys of Informal Sector Enterprises - Some ...</td>\n",
       "      <td>informal_sector informal_sector_enterprises me...</td>\n",
       "    </tr>\n",
       "  </tbody>\n",
       "</table>\n",
       "</div>"
      ],
      "text/plain": [
       "                                         publication  \\\n",
       "0  http://linkeddata.econstor.eu/beta/resource/pu...   \n",
       "1  http://linkeddata.econstor.eu/beta/resource/pu...   \n",
       "2  http://linkeddata.econstor.eu/beta/resource/pu...   \n",
       "3  http://linkeddata.econstor.eu/beta/resource/pu...   \n",
       "4  http://linkeddata.econstor.eu/beta/resource/pu...   \n",
       "\n",
       "                                               title  \\\n",
       "0  The desirability of workfare as a welfare orde...   \n",
       "1  Ageing, Care Need and Long-Term Care Workforce...   \n",
       "2  The experience of developing countries with ma...   \n",
       "3  Private information, human capital, and optima...   \n",
       "4  Surveys of Informal Sector Enterprises - Some ...   \n",
       "\n",
       "                                            keywords  \n",
       "0  welfare workfare misreporting means-testing ut...  \n",
       "1  deutschland pflegeberufe gesundheitsberufe pfl...  \n",
       "2  wirtschaftliche_anpassung entwicklungslaender ...  \n",
       "3  welt financial_markets portfolio-management as...  \n",
       "4  informal_sector informal_sector_enterprises me...  "
      ]
     },
     "execution_count": 6,
     "metadata": {},
     "output_type": "execute_result"
    }
   ],
   "source": [
    "input.head()"
   ]
  },
  {
   "cell_type": "code",
   "execution_count": 7,
   "metadata": {},
   "outputs": [],
   "source": [
    "cores = multiprocessing.cpu_count() # Count the number of cores in a computer"
   ]
  },
  {
   "cell_type": "code",
   "execution_count": 8,
   "metadata": {},
   "outputs": [],
   "source": [
    "def read_metadata_record(row,column_name):\n",
    "    return gensim.utils.simple_preprocess(str(row[column_name]).encode('utf-8'))"
   ]
  },
  {
   "cell_type": "code",
   "execution_count": 9,
   "metadata": {},
   "outputs": [],
   "source": [
    "def training(size, sample, use_gensim_preprocessing, mincount, negative, outputname):\n",
    "    documents = []\n",
    "    for index, row in input.iterrows():\n",
    "        if(use_gensim_preprocessing == False):\n",
    "            documents.append(row['keywords'].split())\n",
    "        else:\n",
    "            documents.append(read_metadata_record(row,\"keywords\"))\n",
    "    model = Word2Vec(min_count=mincount,\n",
    "                     window=5,\n",
    "                     size=size,\n",
    "                     sample=sample,#6e-5, \n",
    "                     alpha=0.03, \n",
    "                     min_alpha=0.0007, \n",
    "                     negative=negative,#negative=20,\n",
    "                     workers=cores-1)\n",
    "    model.build_vocab(documents, progress_per=10000)\n",
    "    model.train(sentences=documents, total_examples=len(documents), epochs=model.iter)\n",
    "    model.save(outputname)\n",
    "    pass"
   ]
  },
  {
   "cell_type": "code",
   "execution_count": null,
   "metadata": {},
   "outputs": [
    {
     "name": "stderr",
     "output_type": "stream",
     "text": [
      "C:\\Users\\sasaki.f\\AppData\\Local\\Continuum\\anaconda3\\lib\\site-packages\\gensim\\models\\base_any2vec.py:743: UserWarning: C extension not loaded, training will be slow. Install a C compiler and reinstall gensim for fast training.\n",
      "  \"C extension not loaded, training will be slow. \"\n",
      "INFO - 16:55:54: collecting all words and their counts\n",
      "INFO - 16:55:54: PROGRESS: at sentence #0, processed 0 words, keeping 0 word types\n",
      "INFO - 16:55:54: PROGRESS: at sentence #10000, processed 66973 words, keeping 22202 word types\n",
      "INFO - 16:55:55: PROGRESS: at sentence #20000, processed 134000 words, keeping 35698 word types\n",
      "INFO - 16:55:55: PROGRESS: at sentence #30000, processed 201264 words, keeping 47317 word types\n",
      "INFO - 16:55:55: PROGRESS: at sentence #40000, processed 268607 words, keeping 57151 word types\n",
      "INFO - 16:55:55: PROGRESS: at sentence #50000, processed 336504 words, keeping 66029 word types\n",
      "INFO - 16:55:55: PROGRESS: at sentence #60000, processed 403739 words, keeping 74347 word types\n",
      "INFO - 16:55:55: PROGRESS: at sentence #70000, processed 471167 words, keeping 82043 word types\n",
      "INFO - 16:55:55: PROGRESS: at sentence #80000, processed 538291 words, keeping 89234 word types\n",
      "INFO - 16:55:55: collected 92601 word types from a corpus of 571294 raw words and 84890 sentences\n",
      "INFO - 16:55:55: Loading a fresh vocabulary\n",
      "INFO - 16:55:55: effective_min_count=5 retains 12898 unique words (13% of original 92601, drops 79703)\n",
      "INFO - 16:55:55: effective_min_count=5 leaves 458738 word corpus (80% of original 571294, drops 112556)\n",
      "INFO - 16:55:55: deleting the raw counts dictionary of 92601 items\n",
      "INFO - 16:55:55: sample=0.001 downsamples 13 most-common words\n",
      "INFO - 16:55:55: downsampling leaves estimated 434149 word corpus (94.6% of prior 458738)\n",
      "INFO - 16:55:55: estimated required memory for 12898 words and 100 dimensions: 16767400 bytes\n",
      "INFO - 16:55:55: resetting layer weights\n",
      "C:\\Users\\sasaki.f\\AppData\\Local\\Continuum\\anaconda3\\lib\\site-packages\\ipykernel_launcher.py:10: DeprecationWarning: Call to deprecated `iter` (Attribute will be removed in 4.0.0, use self.epochs instead).\n",
      "  # Remove the CWD from sys.path while we load stuff.\n",
      "INFO - 16:55:56: training model with 3 workers on 12898 vocabulary and 100 features, using sg=0 hs=0 sample=0.001 negative=5 window=5\n",
      "INFO - 16:56:20: EPOCH 1 - PROGRESS: at 1.75% examples, 308 words/s, in_qsize 6, out_qsize 0\n",
      "INFO - 16:56:45: EPOCH 1 - PROGRESS: at 6.97% examples, 621 words/s, in_qsize 6, out_qsize 0\n",
      "INFO - 16:57:08: EPOCH 1 - PROGRESS: at 12.29% examples, 734 words/s, in_qsize 5, out_qsize 0\n"
     ]
    }
   ],
   "source": [
    "use_gensim_preprocessing = False\n",
    "documents = []\n",
    "for index, row in input.iterrows():\n",
    "    if(use_gensim_preprocessing == False):\n",
    "        documents.append(row['keywords'].split())\n",
    "    else:\n",
    "        documents.append(read_metadata_record(row,\"keywords\"))\n",
    "model = Word2Vec(workers=cores-1)\n",
    "model.build_vocab(documents, progress_per=10000)\n",
    "model.train(sentences=documents, total_examples=len(documents), epochs=model.iter)\n",
    "model.save(\"defaults-without-gensim-preprocessing.model\")"
   ]
  },
  {
   "cell_type": "code",
   "execution_count": null,
   "metadata": {},
   "outputs": [],
   "source": [
    "model = Word2Vec.load(\"defaults.model\")"
   ]
  },
  {
   "cell_type": "code",
   "execution_count": null,
   "metadata": {},
   "outputs": [],
   "source": [
    "def analyseModel(model):\n",
    "    word_vectors = model.wv\n",
    "    number_of_samples = len(word_vectors.vocab) // 10\n",
    "    length = str(len(word_vectors.vocab))\n",
    "    randomNumbers = np.random.randint(low=1, high=length, size=number_of_samples) \n",
    "    totalSum = 0\n",
    "    for n in randomNumbers:\n",
    "        word = word_vectors.index2word[int(n)]\n",
    "        values = [value[1] for value in word_vectors.most_similar(word)]\n",
    "        totalSum += sum(values) / len(values)\n",
    "    return(totalSum / number_of_samples)"
   ]
  },
  {
   "cell_type": "code",
   "execution_count": null,
   "metadata": {},
   "outputs": [],
   "source": [
    "def print_model_parameters(model):\n",
    "    parameters = \"\"\n",
    "    parameters += \"\\t\" + str(model.corpus_total_words)\n",
    "    parameters += \"\\t\" + str(model.epochs)\n",
    "    parameters += \"\\t\" + str(model.layer1_size)\n",
    "    parameters += \"\\t\" + str(model.min_alpha)\n",
    "    parameters += \"\\t\" + str(model.min_count)\n",
    "    parameters += \"\\t\" + str(model.sample)\n",
    "    parameters += \"\\t\" + str(model.negative)\n",
    "    parameters += \"\\t\" + str(analyseModel(model))\n",
    "    return parameters"
   ]
  },
  {
   "cell_type": "code",
   "execution_count": null,
   "metadata": {},
   "outputs": [],
   "source": [
    "import os\n",
    "model_analysis = \"filename\" + \"\\t\" + \"vocabulary size\" + \"\\t\" + \"epochs\" + \"\\t\" + \"hidden layer size\" + \"\\t\" + \"learning rate\" + \"\\t\" + \"min count\" + \"\\t\" + \"downsampling\" + \"\\t\" + \"negative sampling\" + \"\\t\" + \"model quality\"  \n",
    "rootdir = '.'\n",
    "extensions = ('.model')\n",
    "for subdir, dirs, files in os.walk(rootdir):\n",
    "    for file in files:\n",
    "        ext = os.path.splitext(file)[-1].lower()\n",
    "        if ext in extensions:\n",
    "            model_analysis += \"\\n\" + str(file) \n",
    "            model = Word2Vec.load(str(file))\n",
    "            model_analysis += print_model_parameters(model)\n",
    "f= open(\"model-analysis.csv\",\"w\", encoding=\"utf-8\")\n",
    "f.write(model_analysis)\n",
    "f.close()"
   ]
  },
  {
   "cell_type": "code",
   "execution_count": null,
   "metadata": {},
   "outputs": [],
   "source": [
    "analysis = pd.read_csv('model-analysis.csv',sep='\\t', encoding='utf-8')"
   ]
  },
  {
   "cell_type": "code",
   "execution_count": null,
   "metadata": {},
   "outputs": [],
   "source": [
    "analysis.sort_values(by=['model quality'],ascending=False)"
   ]
  },
  {
   "cell_type": "code",
   "execution_count": null,
   "metadata": {},
   "outputs": [],
   "source": [
    "model = Word2Vec.load('training18.model')"
   ]
  },
  {
   "cell_type": "code",
   "execution_count": null,
   "metadata": {},
   "outputs": [],
   "source": [
    "model.wv.most_similar('deutschland')"
   ]
  },
  {
   "cell_type": "code",
   "execution_count": null,
   "metadata": {},
   "outputs": [],
   "source": []
  },
  {
   "cell_type": "code",
   "execution_count": 68,
   "metadata": {},
   "outputs": [],
   "source": [
    "vocabulary = model.wv.vocab.keys()\n",
    "output = \"\"\n",
    "type(vocabulary)\n",
    "f= open(\"vocabulary-defaults.txt\",\"w\", encoding=\"utf-8\")\n",
    "for x in vocabulary:\n",
    "    output += str (x) + \"\\n\"\n",
    "f.write(output)\n",
    "f.close()"
   ]
  },
  {
   "cell_type": "code",
   "execution_count": 85,
   "metadata": {},
   "outputs": [],
   "source": [
    "def tsnescatterplot(model, word, list_names):\n",
    "    \"\"\" Plot in seaborn the results from the t-SNE dimensionality reduction algorithm of the vectors of a query word,\n",
    "    its list of most similar words, and a list of words.\n",
    "    \"\"\"\n",
    "    arrays = np.empty((0, 300), dtype='f')\n",
    "    word_labels = [word]\n",
    "    color_list  = ['red']\n",
    "\n",
    "    # adds the vector of the query word\n",
    "    arrays = np.append(arrays, model.wv.__getitem__([word]), axis=0)\n",
    "    \n",
    "    # gets list of most similar words\n",
    "    close_words = model.wv.most_similar([word])\n",
    "    \n",
    "    # adds the vector for each of the closest words to the array\n",
    "    for wrd_score in close_words:\n",
    "        wrd_vector = model.wv.__getitem__([wrd_score[0]])\n",
    "        word_labels.append(wrd_score[0])\n",
    "        color_list.append('blue')\n",
    "        arrays = np.append(arrays, wrd_vector, axis=0)\n",
    "    \n",
    "    # adds the vector for each of the words from list_names to the array\n",
    "    for wrd in list_names:\n",
    "        wrd_vector = model.wv.__getitem__([wrd])\n",
    "        word_labels.append(wrd)\n",
    "        color_list.append('green')\n",
    "        arrays = np.append(arrays, wrd_vector, axis=0)\n",
    "        \n",
    "    # Reduces the dimensionality from 300 to 50 dimensions with PCA\n",
    "    reduc = PCA(n_components=19).fit_transform(arrays)\n",
    "    \n",
    "    # Finds t-SNE coordinates for 2 dimensions\n",
    "    np.set_printoptions(suppress=True)\n",
    "    \n",
    "    Y = TSNE(n_components=2, random_state=0, perplexity=15).fit_transform(reduc)\n",
    "    \n",
    "    # Sets everything up to plot\n",
    "    df = pd.DataFrame({'x': [x for x in Y[:, 0]],\n",
    "                       'y': [y for y in Y[:, 1]],\n",
    "                       'words': word_labels,\n",
    "                       'color': color_list})\n",
    "    \n",
    "    fig, _ = plt.subplots()\n",
    "    fig.set_size_inches(9, 9)\n",
    "    \n",
    "    # Basic plot\n",
    "    p1 = sns.regplot(data=df,\n",
    "                     x=\"x\",\n",
    "                     y=\"y\",\n",
    "                     fit_reg=False,\n",
    "                     marker=\"o\",\n",
    "                     scatter_kws={'s': 40,\n",
    "                                  'facecolors': df['color']\n",
    "                                 }\n",
    "                    )\n",
    "    \n",
    "    # Adds annotations one by one with a loop\n",
    "    for line in range(0, df.shape[0]):\n",
    "         title = df[\"words\"][line].title()\n",
    "         p1.text(df[\"x\"][line],\n",
    "                 df['y'][line],\n",
    "                 '  ' + re.sub('_',' ',title),\n",
    "                 horizontalalignment='left',\n",
    "                 verticalalignment='bottom', size='medium',\n",
    "                 color=df['color'][line],\n",
    "                 weight='normal'\n",
    "                ).set_size(15)\n",
    "\n",
    "    \n",
    "    plt.xlim(Y[:, 0].min()-50, Y[:, 0].max()+50)\n",
    "    plt.ylim(Y[:, 1].min()-50, Y[:, 1].max()+50)\n",
    "            \n",
    "    plt.title('t-SNE visualization for {}'.format(word.title()))\n",
    "    "
   ]
  },
  {
   "cell_type": "code",
   "execution_count": 86,
   "metadata": {},
   "outputs": [
    {
     "data": {
      "image/png": "[encoded data removed]",
      "text/plain": [
       "<Figure size 648x648 with 1 Axes>"
      ]
     },
     "metadata": {
      "needs_background": "light"
     },
     "output_type": "display_data"
    }
   ],
   "source": [
    "tsnescatterplot(model, 'deutschland', [i[0] for i in model.wv.most_similar(negative=['deutschland'])])"
   ]
  },
  {
   "cell_type": "code",
   "execution_count": null,
   "metadata": {},
   "outputs": [],
   "source": []
  }
 ],
 "metadata": {
  "kernelspec": {
   "display_name": "Python 3",
   "language": "python",
   "name": "python3"
  },
  "language_info": {
   "codemirror_mode": {
    "name": "ipython",
    "version": 3
   },
   "file_extension": ".py",
   "mimetype": "text/x-python",
   "name": "python",
   "nbconvert_exporter": "python",
   "pygments_lexer": "ipython3",
   "version": "3.7.1"
  }
 },
 "nbformat": 4,
 "nbformat_minor": 2
}
