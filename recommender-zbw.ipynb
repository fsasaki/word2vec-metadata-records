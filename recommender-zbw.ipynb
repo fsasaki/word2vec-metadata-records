{
 "cells": [
  {
   "cell_type": "code",
   "execution_count": 1,
   "metadata": {},
   "outputs": [
    {
     "name": "stderr",
     "output_type": "stream",
     "text": [
      "C:\\Users\\sasaki.f\\AppData\\Local\\Continuum\\anaconda3\\lib\\site-packages\\gensim\\utils.py:1212: UserWarning: detected Windows; aliasing chunkize to chunkize_serial\n",
      "  warnings.warn(\"detected Windows; aliasing chunkize to chunkize_serial\")\n"
     ]
    }
   ],
   "source": [
    "import pandas as pd\n",
    "import gensim\n",
    "import numpy as np\n",
    "import re\n",
    "import multiprocessing\n",
    "from gensim.models import Word2Vec\n",
    "from sklearn.manifold import TSNE\n",
    "from sklearn.decomposition import PCA"
   ]
  },
  {
   "cell_type": "code",
   "execution_count": 3,
   "metadata": {},
   "outputs": [
    {
     "data": {
      "text/html": [
       "<div>\n",
       "<style scoped>\n",
       "    .dataframe tbody tr th:only-of-type {\n",
       "        vertical-align: middle;\n",
       "    }\n",
       "\n",
       "    .dataframe tbody tr th {\n",
       "        vertical-align: top;\n",
       "    }\n",
       "\n",
       "    .dataframe thead th {\n",
       "        text-align: right;\n",
       "    }\n",
       "</style>\n",
       "<table border=\"1\" class=\"dataframe\">\n",
       "  <thead>\n",
       "    <tr style=\"text-align: right;\">\n",
       "      <th></th>\n",
       "      <th>publication</th>\n",
       "      <th>title</th>\n",
       "      <th>keywords</th>\n",
       "    </tr>\n",
       "  </thead>\n",
       "  <tbody>\n",
       "    <tr>\n",
       "      <th>0</th>\n",
       "      <td>http://linkeddata.econstor.eu/beta/resource/pu...</td>\n",
       "      <td>The desirability of workfare as a welfare orde...</td>\n",
       "      <td>welfareXXXYYYworkfareXXXYYYmisreportingXXXYYYm...</td>\n",
       "    </tr>\n",
       "    <tr>\n",
       "      <th>1</th>\n",
       "      <td>http://linkeddata.econstor.eu/beta/resource/pu...</td>\n",
       "      <td>Ageing, Care Need and Long-Term Care Workforce...</td>\n",
       "      <td>DeutschlandXXXYYYPflegeberufeXXXYYYGesundheits...</td>\n",
       "    </tr>\n",
       "    <tr>\n",
       "      <th>2</th>\n",
       "      <td>http://linkeddata.econstor.eu/beta/resource/pu...</td>\n",
       "      <td>The experience of developing countries with ma...</td>\n",
       "      <td>Wirtschaftliche AnpassungXXXYYYEntwicklungslän...</td>\n",
       "    </tr>\n",
       "    <tr>\n",
       "      <th>3</th>\n",
       "      <td>http://linkeddata.econstor.eu/beta/resource/pu...</td>\n",
       "      <td>Private information, human capital, and optima...</td>\n",
       "      <td>WeltXXXYYYfinancial marketsXXXYYYPortfolio-Man...</td>\n",
       "    </tr>\n",
       "    <tr>\n",
       "      <th>4</th>\n",
       "      <td>http://linkeddata.econstor.eu/beta/resource/pu...</td>\n",
       "      <td>Surveys of Informal Sector Enterprises - Some ...</td>\n",
       "      <td>informal sectorXXXYYYinformal sector enterpris...</td>\n",
       "    </tr>\n",
       "  </tbody>\n",
       "</table>\n",
       "</div>"
      ],
      "text/plain": [
       "                                         publication  \\\n",
       "0  http://linkeddata.econstor.eu/beta/resource/pu...   \n",
       "1  http://linkeddata.econstor.eu/beta/resource/pu...   \n",
       "2  http://linkeddata.econstor.eu/beta/resource/pu...   \n",
       "3  http://linkeddata.econstor.eu/beta/resource/pu...   \n",
       "4  http://linkeddata.econstor.eu/beta/resource/pu...   \n",
       "\n",
       "                                               title  \\\n",
       "0  The desirability of workfare as a welfare orde...   \n",
       "1  Ageing, Care Need and Long-Term Care Workforce...   \n",
       "2  The experience of developing countries with ma...   \n",
       "3  Private information, human capital, and optima...   \n",
       "4  Surveys of Informal Sector Enterprises - Some ...   \n",
       "\n",
       "                                            keywords  \n",
       "0  welfareXXXYYYworkfareXXXYYYmisreportingXXXYYYm...  \n",
       "1  DeutschlandXXXYYYPflegeberufeXXXYYYGesundheits...  \n",
       "2  Wirtschaftliche AnpassungXXXYYYEntwicklungslän...  \n",
       "3  WeltXXXYYYfinancial marketsXXXYYYPortfolio-Man...  \n",
       "4  informal sectorXXXYYYinformal sector enterpris...  "
      ]
     },
     "execution_count": 3,
     "metadata": {},
     "output_type": "execute_result"
    }
   ],
   "source": [
    "input = pd.read_csv('linked-data-query-results/result-with-delimiter.csv',header=0,delimiter=',', encoding='utf-8')\n",
    "input.head()"
   ]
  },
  {
   "cell_type": "code",
   "execution_count": 4,
   "metadata": {},
   "outputs": [],
   "source": [
    "umlaute_dict = {\n",
    "    'ä': 'ae',  # U+00E4\t   \\xc3\\xa4\n",
    "    'ö': 'oe',  # U+00F6\t   \\xc3\\xb6\n",
    "    'ü': 'ue',  # U+00FC\t   \\xc3\\xbc\n",
    "    'Ä': 'Ae',  # U+00C4\t   \\xc3\\x84\n",
    "    'Ö': 'Oe',  # U+00D6\t   \\xc3\\x96\n",
    "    'Ü': 'Ue',  # U+00DC\t   \\xc3\\x9c\n",
    "    'ß': 'ss',  # U+00DF\t   \\xc3\\x9f\n",
    "}\n",
    "def replace_german_umlaute(unicode_string):\n",
    "\n",
    "    utf8_string = unicode_string# .encode('utf-8')\n",
    "\n",
    "    for k in umlaute_dict.keys():\n",
    "        utf8_string = utf8_string.replace(k, umlaute_dict[k])\n",
    "\n",
    "    return utf8_string#.decode()"
   ]
  },
  {
   "cell_type": "code",
   "execution_count": 5,
   "metadata": {},
   "outputs": [],
   "source": [
    "for i, row in input.iterrows():\n",
    "    s = str(row.iloc[2])\n",
    "    replaced1 = re.sub(' ','_',s)\n",
    "    replaced2= re.sub('XXXYYY', ' ', replaced1)\n",
    "    replaced3= replace_german_umlaute(replaced2)\n",
    "    input.iat[i,2] = replaced3"
   ]
  },
  {
   "cell_type": "code",
   "execution_count": 6,
   "metadata": {},
   "outputs": [],
   "source": [
    "input['similarity'] = ''"
   ]
  },
  {
   "cell_type": "code",
   "execution_count": 7,
   "metadata": {},
   "outputs": [
    {
     "data": {
      "text/html": [
       "<div>\n",
       "<style scoped>\n",
       "    .dataframe tbody tr th:only-of-type {\n",
       "        vertical-align: middle;\n",
       "    }\n",
       "\n",
       "    .dataframe tbody tr th {\n",
       "        vertical-align: top;\n",
       "    }\n",
       "\n",
       "    .dataframe thead th {\n",
       "        text-align: right;\n",
       "    }\n",
       "</style>\n",
       "<table border=\"1\" class=\"dataframe\">\n",
       "  <thead>\n",
       "    <tr style=\"text-align: right;\">\n",
       "      <th></th>\n",
       "      <th>publication</th>\n",
       "      <th>title</th>\n",
       "      <th>keywords</th>\n",
       "      <th>similarity</th>\n",
       "    </tr>\n",
       "  </thead>\n",
       "  <tbody>\n",
       "    <tr>\n",
       "      <th>0</th>\n",
       "      <td>http://linkeddata.econstor.eu/beta/resource/pu...</td>\n",
       "      <td>The desirability of workfare as a welfare orde...</td>\n",
       "      <td>welfare workfare misreporting means-testing ut...</td>\n",
       "      <td></td>\n",
       "    </tr>\n",
       "    <tr>\n",
       "      <th>1</th>\n",
       "      <td>http://linkeddata.econstor.eu/beta/resource/pu...</td>\n",
       "      <td>Ageing, Care Need and Long-Term Care Workforce...</td>\n",
       "      <td>Deutschland Pflegeberufe Gesundheitsberufe Pfl...</td>\n",
       "      <td></td>\n",
       "    </tr>\n",
       "    <tr>\n",
       "      <th>2</th>\n",
       "      <td>http://linkeddata.econstor.eu/beta/resource/pu...</td>\n",
       "      <td>The experience of developing countries with ma...</td>\n",
       "      <td>Wirtschaftliche_Anpassung Entwicklungslaender ...</td>\n",
       "      <td></td>\n",
       "    </tr>\n",
       "    <tr>\n",
       "      <th>3</th>\n",
       "      <td>http://linkeddata.econstor.eu/beta/resource/pu...</td>\n",
       "      <td>Private information, human capital, and optima...</td>\n",
       "      <td>Welt financial_markets Portfolio-Management As...</td>\n",
       "      <td></td>\n",
       "    </tr>\n",
       "    <tr>\n",
       "      <th>4</th>\n",
       "      <td>http://linkeddata.econstor.eu/beta/resource/pu...</td>\n",
       "      <td>Surveys of Informal Sector Enterprises - Some ...</td>\n",
       "      <td>informal_sector informal_sector_enterprises me...</td>\n",
       "      <td></td>\n",
       "    </tr>\n",
       "  </tbody>\n",
       "</table>\n",
       "</div>"
      ],
      "text/plain": [
       "                                         publication  \\\n",
       "0  http://linkeddata.econstor.eu/beta/resource/pu...   \n",
       "1  http://linkeddata.econstor.eu/beta/resource/pu...   \n",
       "2  http://linkeddata.econstor.eu/beta/resource/pu...   \n",
       "3  http://linkeddata.econstor.eu/beta/resource/pu...   \n",
       "4  http://linkeddata.econstor.eu/beta/resource/pu...   \n",
       "\n",
       "                                               title  \\\n",
       "0  The desirability of workfare as a welfare orde...   \n",
       "1  Ageing, Care Need and Long-Term Care Workforce...   \n",
       "2  The experience of developing countries with ma...   \n",
       "3  Private information, human capital, and optima...   \n",
       "4  Surveys of Informal Sector Enterprises - Some ...   \n",
       "\n",
       "                                            keywords similarity  \n",
       "0  welfare workfare misreporting means-testing ut...             \n",
       "1  Deutschland Pflegeberufe Gesundheitsberufe Pfl...             \n",
       "2  Wirtschaftliche_Anpassung Entwicklungslaender ...             \n",
       "3  Welt financial_markets Portfolio-Management As...             \n",
       "4  informal_sector informal_sector_enterprises me...             "
      ]
     },
     "execution_count": 7,
     "metadata": {},
     "output_type": "execute_result"
    }
   ],
   "source": [
    "input.head()"
   ]
  },
  {
   "cell_type": "code",
   "execution_count": 8,
   "metadata": {},
   "outputs": [],
   "source": [
    "input.to_csv('linked-data-query-results/input_with_ids.csv')"
   ]
  },
  {
   "cell_type": "code",
   "execution_count": 9,
   "metadata": {},
   "outputs": [],
   "source": [
    "model = Word2Vec.load('models/defaults-without-gensim-preprocessing.model')"
   ]
  },
  {
   "cell_type": "code",
   "execution_count": 10,
   "metadata": {},
   "outputs": [
    {
     "data": {
      "text/plain": [
       "12898"
      ]
     },
     "execution_count": 10,
     "metadata": {},
     "output_type": "execute_result"
    }
   ],
   "source": [
    "word_vectors = model.wv\n",
    "len(word_vectors.vocab)"
   ]
  },
  {
   "cell_type": "code",
   "execution_count": 11,
   "metadata": {},
   "outputs": [],
   "source": [
    "def get_most_similar(words):\n",
    "    results = {}\n",
    "    for word in words.split():\n",
    "        results.update({ word.lower() : 1 })\n",
    "        try:\n",
    "            ms = model.wv.most_similar(word.lower())\n",
    "            for result in ms:\n",
    "                if result[1] > 0.98:\n",
    "                    results.update ({ result[0].lower() : result[1]})\n",
    "        except:\n",
    "            None\n",
    "    return results\n",
    "    pass"
   ]
  },
  {
   "cell_type": "code",
   "execution_count": 12,
   "metadata": {},
   "outputs": [],
   "source": [
    "def get_jaccard_similarty(most_similar_original_doc,comparison_doc):\n",
    "    size_original_doc = 0\n",
    "    size_intersection = 0\n",
    "    size_comparison_doc = 0\n",
    "    jaccard_similarity = 0\n",
    "    for key in most_similar_original_doc:\n",
    "        if most_similar_original_doc[key] == 1:\n",
    "            if key in comparison_doc:\n",
    "                #print(key)\n",
    "                size_intersection += 1\n",
    "            else:\n",
    "                size_original_doc +=1\n",
    "    size_comparison_doc = len(comparison_doc.split()) - size_intersection\n",
    "    jaccard_similarity = size_intersection / (size_intersection + size_comparison_doc + size_original_doc)\n",
    "    return jaccard_similarity"
   ]
  },
  {
   "cell_type": "code",
   "execution_count": 13,
   "metadata": {},
   "outputs": [],
   "source": [
    "def get_jaccard_similarty_with_word2vec(most_similar_original_doc,most_similar_comparison_doc):\n",
    "    intersection_set = set()\n",
    "    original_doc_set = set()\n",
    "    comparison_doc_set = set()\n",
    "    for key in most_similar_original_doc:\n",
    "        original_doc_set.add(key)\n",
    "        if most_similar_original_doc[key] > 0.9:\n",
    "            if key in most_similar_comparison_doc:\n",
    "                intersection_set.add(key)\n",
    "    for key in most_similar_comparison_doc:\n",
    "            comparison_doc_set.add(key)\n",
    "    original_minus_intersection = original_doc_set.difference(intersection_set)\n",
    "    comparison_minus_intersection = comparison_doc_set.difference(intersection_set)\n",
    "    jaccard_similarity = len(intersection_set) / (len(intersection_set) + len(comparison_minus_intersection) + len(original_minus_intersection))\n",
    "    return jaccard_similarity"
   ]
  },
  {
   "cell_type": "code",
   "execution_count": 14,
   "metadata": {},
   "outputs": [
    {
     "name": "stderr",
     "output_type": "stream",
     "text": [
      "C:\\Users\\sasaki.f\\AppData\\Local\\Continuum\\anaconda3\\lib\\site-packages\\gensim\\matutils.py:737: FutureWarning: Conversion of the second argument of issubdtype from `int` to `np.signedinteger` is deprecated. In future, it will be treated as `np.int32 == np.dtype(int).type`.\n",
      "  if np.issubdtype(vec.dtype, np.int):\n"
     ]
    }
   ],
   "source": [
    "inputdoc = input.iloc[9000][2]\n",
    "my_most_similar = get_most_similar(str(inputdoc.lower()))"
   ]
  },
  {
   "cell_type": "code",
   "execution_count": 15,
   "metadata": {},
   "outputs": [],
   "source": [
    "for i, row in input.iterrows():\n",
    "    comparison_doc = get_most_similar(str(row.iloc[2]).lower())\n",
    "    input.iat[i,3] = get_jaccard_similarty_with_word2vec(my_most_similar,comparison_doc)"
   ]
  },
  {
   "cell_type": "code",
   "execution_count": 16,
   "metadata": {},
   "outputs": [],
   "source": [
    "values_sorted = input.sort_values(by='similarity', ascending=False)"
   ]
  },
  {
   "cell_type": "code",
   "execution_count": 17,
   "metadata": {},
   "outputs": [
    {
     "data": {
      "text/plain": [
       "'fertility marriage divorce suicide child_outcomes joint_custody'"
      ]
     },
     "execution_count": 17,
     "metadata": {},
     "output_type": "execute_result"
    }
   ],
   "source": [
    "values_sorted.iloc[0][2]"
   ]
  },
  {
   "cell_type": "code",
   "execution_count": 18,
   "metadata": {},
   "outputs": [
    {
     "data": {
      "text/plain": [
       "'marriage divorce family_law Joint_custody marital-specific_investment'"
      ]
     },
     "execution_count": 18,
     "metadata": {},
     "output_type": "execute_result"
    }
   ],
   "source": [
    "values_sorted.iloc[1][2]"
   ]
  },
  {
   "cell_type": "code",
   "execution_count": 19,
   "metadata": {},
   "outputs": [
    {
     "data": {
      "text/plain": [
       "'Do joint custody laws improve family well-being?'"
      ]
     },
     "execution_count": 19,
     "metadata": {},
     "output_type": "execute_result"
    }
   ],
   "source": [
    "values_sorted.iloc[0][1]"
   ]
  },
  {
   "cell_type": "code",
   "execution_count": 20,
   "metadata": {},
   "outputs": [
    {
     "data": {
      "text/plain": [
       "'The Effect of Joint Custody on Marriage and Divorce'"
      ]
     },
     "execution_count": 20,
     "metadata": {},
     "output_type": "execute_result"
    }
   ],
   "source": [
    "values_sorted.iloc[1][1]"
   ]
  }
 ],
 "metadata": {
  "kernelspec": {
   "display_name": "Python 3",
   "language": "python",
   "name": "python3"
  },
  "language_info": {
   "codemirror_mode": {
    "name": "ipython",
    "version": 3
   },
   "file_extension": ".py",
   "mimetype": "text/x-python",
   "name": "python",
   "nbconvert_exporter": "python",
   "pygments_lexer": "ipython3",
   "version": "3.7.1"
  }
 },
 "nbformat": 4,
 "nbformat_minor": 2
}
